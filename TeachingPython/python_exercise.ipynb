{
  "nbformat": 4,
  "nbformat_minor": 0,
  "metadata": {
    "colab": {
      "name": "python exercise.ipynb",
      "provenance": [],
      "collapsed_sections": [],
      "authorship_tag": "ABX9TyNbSfOmVcI7vZy8NFyt5xNJ",
      "include_colab_link": true
    },
    "kernelspec": {
      "name": "python3",
      "display_name": "Python 3"
    }
  },
  "cells": [
    {
      "cell_type": "markdown",
      "metadata": {
        "id": "view-in-github",
        "colab_type": "text"
      },
      "source": [
        "<a href=\"https://colab.research.google.com/github/sarahgylee/sarah.github.io/blob/main/python_exercise.ipynb\" target=\"_parent\"><img src=\"https://colab.research.google.com/assets/colab-badge.svg\" alt=\"Open In Colab\"/></a>"
      ]
    },
    {
      "cell_type": "markdown",
      "metadata": {
        "id": "E9PajWZNpNMn"
      },
      "source": [
        "#Getting Familiar with Python\n",
        "## Data Types\n",
        "> In programming, data type is an important concept. Variables can store data of different types, and different types can do different things.\n",
        "\n",
        "\n",
        "1.   Integer (int)\n",
        "2.   Float (float)\n",
        "3.   String (str)\n",
        "4.   Booleans (bool)"
      ]
    },
    {
      "cell_type": "code",
      "metadata": {
        "colab": {
          "base_uri": "https://localhost:8080/"
        },
        "id": "c9pLTn0w42CH",
        "outputId": "6b2766a4-355d-4658-dac2-8cc093613c40"
      },
      "source": [
        "type(0), type(2.4), type('hi'), type(False)"
      ],
      "execution_count": null,
      "outputs": [
        {
          "output_type": "execute_result",
          "data": {
            "text/plain": [
              "(int, float, str, bool)"
            ]
          },
          "metadata": {
            "tags": []
          },
          "execution_count": 90
        }
      ]
    },
    {
      "cell_type": "markdown",
      "metadata": {
        "id": "NQfmtqQlpzSZ"
      },
      "source": [
        "##Exercise"
      ]
    },
    {
      "cell_type": "code",
      "metadata": {
        "id": "kdtOhcF5p29s",
        "colab": {
          "base_uri": "https://localhost:8080/"
        },
        "outputId": "f28edfd6-7c7f-488e-9e3b-41f7dbdc5e2d"
      },
      "source": [
        "# write a code to assign a=4, b='hello'\n",
        "a = 4\n",
        "b = 'hello'\n",
        "print(a)\n",
        "print(b)"
      ],
      "execution_count": null,
      "outputs": [
        {
          "output_type": "stream",
          "text": [
            "4\n",
            "hello\n"
          ],
          "name": "stdout"
        }
      ]
    },
    {
      "cell_type": "code",
      "metadata": {
        "id": "p9QYdnbyy6sZ",
        "colab": {
          "base_uri": "https://localhost:8080/"
        },
        "outputId": "02e5537b-dc9e-454c-f177-b46f2ae13b99"
      },
      "source": [
        "# create a variable named fruit and assign the value apple to it\n",
        "fruit = 'apple'\n",
        "print(fruit)"
      ],
      "execution_count": null,
      "outputs": [
        {
          "output_type": "stream",
          "text": [
            "apple\n"
          ],
          "name": "stdout"
        }
      ]
    },
    {
      "cell_type": "markdown",
      "metadata": {
        "id": "KdK-JfbIWpmc"
      },
      "source": [
        "#Step 1. Connecting Google Colab with Google Drive"
      ]
    },
    {
      "cell_type": "code",
      "metadata": {
        "id": "Cij_nsiqTfGi",
        "colab": {
          "base_uri": "https://localhost:8080/"
        },
        "outputId": "4b45735e-d00a-451e-818d-9be7c941e2fa"
      },
      "source": [
        "from google.colab import drive\n",
        "drive.mount('/content/drive')"
      ],
      "execution_count": null,
      "outputs": [
        {
          "output_type": "stream",
          "text": [
            "Mounted at /content/drive\n"
          ],
          "name": "stdout"
        }
      ]
    },
    {
      "cell_type": "markdown",
      "metadata": {
        "id": "wVR4weYnWOsh"
      },
      "source": [
        "#Step 2. Setting Up the Libraries for Data Analysis\n",
        "##Importing Modules"
      ]
    },
    {
      "cell_type": "code",
      "metadata": {
        "id": "bSnWpM0gVYp_"
      },
      "source": [
        "import numpy as numpy\n",
        "#numpy is a mathematics library that contains useful math functions"
      ],
      "execution_count": null,
      "outputs": []
    },
    {
      "cell_type": "code",
      "metadata": {
        "id": "XviIdvm4X8MY"
      },
      "source": [
        "import matplotlib.pyplot as plt\n",
        "#matplotlib is a library used for plotting and graphing purposes"
      ],
      "execution_count": null,
      "outputs": []
    },
    {
      "cell_type": "code",
      "metadata": {
        "id": "w-e2_lxaX8JV"
      },
      "source": [
        "import pandas as pd\n",
        "#pandas is a library used for data manipulation and analysis"
      ],
      "execution_count": null,
      "outputs": []
    },
    {
      "cell_type": "markdown",
      "metadata": {
        "id": "ZpUPSPGBczDI"
      },
      "source": [
        "#Step 3. Setting Up the Data to Model"
      ]
    },
    {
      "cell_type": "code",
      "metadata": {
        "id": "poFh5F5JUIU2"
      },
      "source": [
        "data = pd.read_csv('/content/drive/MyDrive/Week6 Python/Student Performance - Student.csv')\n",
        "# make sure the path name is in a string\n",
        "# you can get the path link by clicking the three dots next to the file and select 'Copy path'"
      ],
      "execution_count": null,
      "outputs": []
    },
    {
      "cell_type": "code",
      "metadata": {
        "colab": {
          "base_uri": "https://localhost:8080/",
          "height": 419
        },
        "id": "xMHn8r3fXq_l",
        "outputId": "1f04ddc7-1f2a-40df-ed0d-c7fdd78a1e71"
      },
      "source": [
        "data"
      ],
      "execution_count": null,
      "outputs": [
        {
          "output_type": "execute_result",
          "data": {
            "text/html": [
              "<div>\n",
              "<style scoped>\n",
              "    .dataframe tbody tr th:only-of-type {\n",
              "        vertical-align: middle;\n",
              "    }\n",
              "\n",
              "    .dataframe tbody tr th {\n",
              "        vertical-align: top;\n",
              "    }\n",
              "\n",
              "    .dataframe thead th {\n",
              "        text-align: right;\n",
              "    }\n",
              "</style>\n",
              "<table border=\"1\" class=\"dataframe\">\n",
              "  <thead>\n",
              "    <tr style=\"text-align: right;\">\n",
              "      <th></th>\n",
              "      <th>school_code</th>\n",
              "      <th>school_name</th>\n",
              "      <th>test_prep</th>\n",
              "      <th>math_score</th>\n",
              "      <th>reading_score</th>\n",
              "      <th>writing_score</th>\n",
              "      <th>avg_score</th>\n",
              "      <th>pass_fail</th>\n",
              "      <th>grade</th>\n",
              "    </tr>\n",
              "  </thead>\n",
              "  <tbody>\n",
              "    <tr>\n",
              "      <th>0</th>\n",
              "      <td>GF</td>\n",
              "      <td>Gryffindor</td>\n",
              "      <td>None</td>\n",
              "      <td>72</td>\n",
              "      <td>72</td>\n",
              "      <td>74</td>\n",
              "      <td>73</td>\n",
              "      <td>Pass</td>\n",
              "      <td>B</td>\n",
              "    </tr>\n",
              "    <tr>\n",
              "      <th>1</th>\n",
              "      <td>GF</td>\n",
              "      <td>Gryffindor</td>\n",
              "      <td>Completed</td>\n",
              "      <td>69</td>\n",
              "      <td>90</td>\n",
              "      <td>88</td>\n",
              "      <td>82</td>\n",
              "      <td>Pass</td>\n",
              "      <td>A</td>\n",
              "    </tr>\n",
              "    <tr>\n",
              "      <th>2</th>\n",
              "      <td>GF</td>\n",
              "      <td>Gryffindor</td>\n",
              "      <td>None</td>\n",
              "      <td>90</td>\n",
              "      <td>95</td>\n",
              "      <td>93</td>\n",
              "      <td>93</td>\n",
              "      <td>Pass</td>\n",
              "      <td>A</td>\n",
              "    </tr>\n",
              "    <tr>\n",
              "      <th>3</th>\n",
              "      <td>RC</td>\n",
              "      <td>Ravenclaw</td>\n",
              "      <td>None</td>\n",
              "      <td>47</td>\n",
              "      <td>57</td>\n",
              "      <td>44</td>\n",
              "      <td>49</td>\n",
              "      <td>Fail</td>\n",
              "      <td>F</td>\n",
              "    </tr>\n",
              "    <tr>\n",
              "      <th>4</th>\n",
              "      <td>RC</td>\n",
              "      <td>Ravenclaw</td>\n",
              "      <td>None</td>\n",
              "      <td>76</td>\n",
              "      <td>78</td>\n",
              "      <td>75</td>\n",
              "      <td>76</td>\n",
              "      <td>Pass</td>\n",
              "      <td>B</td>\n",
              "    </tr>\n",
              "    <tr>\n",
              "      <th>...</th>\n",
              "      <td>...</td>\n",
              "      <td>...</td>\n",
              "      <td>...</td>\n",
              "      <td>...</td>\n",
              "      <td>...</td>\n",
              "      <td>...</td>\n",
              "      <td>...</td>\n",
              "      <td>...</td>\n",
              "      <td>...</td>\n",
              "    </tr>\n",
              "    <tr>\n",
              "      <th>995</th>\n",
              "      <td>GF</td>\n",
              "      <td>Gryffindor</td>\n",
              "      <td>Completed</td>\n",
              "      <td>88</td>\n",
              "      <td>99</td>\n",
              "      <td>95</td>\n",
              "      <td>94</td>\n",
              "      <td>Pass</td>\n",
              "      <td>A</td>\n",
              "    </tr>\n",
              "    <tr>\n",
              "      <th>996</th>\n",
              "      <td>RC</td>\n",
              "      <td>Ravenclaw</td>\n",
              "      <td>None</td>\n",
              "      <td>62</td>\n",
              "      <td>55</td>\n",
              "      <td>55</td>\n",
              "      <td>57</td>\n",
              "      <td>Pass</td>\n",
              "      <td>D</td>\n",
              "    </tr>\n",
              "    <tr>\n",
              "      <th>997</th>\n",
              "      <td>GF</td>\n",
              "      <td>Gryffindor</td>\n",
              "      <td>Completed</td>\n",
              "      <td>59</td>\n",
              "      <td>71</td>\n",
              "      <td>65</td>\n",
              "      <td>65</td>\n",
              "      <td>Pass</td>\n",
              "      <td>C</td>\n",
              "    </tr>\n",
              "    <tr>\n",
              "      <th>998</th>\n",
              "      <td>GF</td>\n",
              "      <td>Gryffindor</td>\n",
              "      <td>Completed</td>\n",
              "      <td>68</td>\n",
              "      <td>78</td>\n",
              "      <td>77</td>\n",
              "      <td>74</td>\n",
              "      <td>Pass</td>\n",
              "      <td>B</td>\n",
              "    </tr>\n",
              "    <tr>\n",
              "      <th>999</th>\n",
              "      <td>GF</td>\n",
              "      <td>Gryffindor</td>\n",
              "      <td>None</td>\n",
              "      <td>77</td>\n",
              "      <td>86</td>\n",
              "      <td>86</td>\n",
              "      <td>83</td>\n",
              "      <td>Pass</td>\n",
              "      <td>A</td>\n",
              "    </tr>\n",
              "  </tbody>\n",
              "</table>\n",
              "<p>1000 rows × 9 columns</p>\n",
              "</div>"
            ],
            "text/plain": [
              "    school_code school_name  test_prep  ...  avg_score  pass_fail  grade\n",
              "0            GF  Gryffindor       None  ...         73       Pass      B\n",
              "1            GF  Gryffindor  Completed  ...         82       Pass      A\n",
              "2            GF  Gryffindor       None  ...         93       Pass      A\n",
              "3            RC   Ravenclaw       None  ...         49       Fail      F\n",
              "4            RC   Ravenclaw       None  ...         76       Pass      B\n",
              "..          ...         ...        ...  ...        ...        ...    ...\n",
              "995          GF  Gryffindor  Completed  ...         94       Pass      A\n",
              "996          RC   Ravenclaw       None  ...         57       Pass      D\n",
              "997          GF  Gryffindor  Completed  ...         65       Pass      C\n",
              "998          GF  Gryffindor  Completed  ...         74       Pass      B\n",
              "999          GF  Gryffindor       None  ...         83       Pass      A\n",
              "\n",
              "[1000 rows x 9 columns]"
            ]
          },
          "metadata": {
            "tags": []
          },
          "execution_count": 7
        }
      ]
    },
    {
      "cell_type": "code",
      "metadata": {
        "colab": {
          "base_uri": "https://localhost:8080/",
          "height": 204
        },
        "id": "lP5ioD8rqThj",
        "outputId": "527383aa-aa08-4d03-9ab4-bd6a531ca83d"
      },
      "source": [
        "data.head()\n",
        "# This function returns the first 5 rows for the object based on position\n",
        "# It is useful for quickly testing if your object has the right type of data in it"
      ],
      "execution_count": null,
      "outputs": [
        {
          "output_type": "execute_result",
          "data": {
            "text/html": [
              "<div>\n",
              "<style scoped>\n",
              "    .dataframe tbody tr th:only-of-type {\n",
              "        vertical-align: middle;\n",
              "    }\n",
              "\n",
              "    .dataframe tbody tr th {\n",
              "        vertical-align: top;\n",
              "    }\n",
              "\n",
              "    .dataframe thead th {\n",
              "        text-align: right;\n",
              "    }\n",
              "</style>\n",
              "<table border=\"1\" class=\"dataframe\">\n",
              "  <thead>\n",
              "    <tr style=\"text-align: right;\">\n",
              "      <th></th>\n",
              "      <th>school_code</th>\n",
              "      <th>school_name</th>\n",
              "      <th>test_prep</th>\n",
              "      <th>math_score</th>\n",
              "      <th>reading_score</th>\n",
              "      <th>writing_score</th>\n",
              "      <th>avg_score</th>\n",
              "      <th>pass_fail</th>\n",
              "      <th>grade</th>\n",
              "    </tr>\n",
              "  </thead>\n",
              "  <tbody>\n",
              "    <tr>\n",
              "      <th>0</th>\n",
              "      <td>GF</td>\n",
              "      <td>Gryffindor</td>\n",
              "      <td>None</td>\n",
              "      <td>72</td>\n",
              "      <td>72</td>\n",
              "      <td>74</td>\n",
              "      <td>73</td>\n",
              "      <td>Pass</td>\n",
              "      <td>B</td>\n",
              "    </tr>\n",
              "    <tr>\n",
              "      <th>1</th>\n",
              "      <td>GF</td>\n",
              "      <td>Gryffindor</td>\n",
              "      <td>Completed</td>\n",
              "      <td>69</td>\n",
              "      <td>90</td>\n",
              "      <td>88</td>\n",
              "      <td>82</td>\n",
              "      <td>Pass</td>\n",
              "      <td>A</td>\n",
              "    </tr>\n",
              "    <tr>\n",
              "      <th>2</th>\n",
              "      <td>GF</td>\n",
              "      <td>Gryffindor</td>\n",
              "      <td>None</td>\n",
              "      <td>90</td>\n",
              "      <td>95</td>\n",
              "      <td>93</td>\n",
              "      <td>93</td>\n",
              "      <td>Pass</td>\n",
              "      <td>A</td>\n",
              "    </tr>\n",
              "    <tr>\n",
              "      <th>3</th>\n",
              "      <td>RC</td>\n",
              "      <td>Ravenclaw</td>\n",
              "      <td>None</td>\n",
              "      <td>47</td>\n",
              "      <td>57</td>\n",
              "      <td>44</td>\n",
              "      <td>49</td>\n",
              "      <td>Fail</td>\n",
              "      <td>F</td>\n",
              "    </tr>\n",
              "    <tr>\n",
              "      <th>4</th>\n",
              "      <td>RC</td>\n",
              "      <td>Ravenclaw</td>\n",
              "      <td>None</td>\n",
              "      <td>76</td>\n",
              "      <td>78</td>\n",
              "      <td>75</td>\n",
              "      <td>76</td>\n",
              "      <td>Pass</td>\n",
              "      <td>B</td>\n",
              "    </tr>\n",
              "  </tbody>\n",
              "</table>\n",
              "</div>"
            ],
            "text/plain": [
              "  school_code school_name  test_prep  ...  avg_score  pass_fail  grade\n",
              "0          GF  Gryffindor       None  ...         73       Pass      B\n",
              "1          GF  Gryffindor  Completed  ...         82       Pass      A\n",
              "2          GF  Gryffindor       None  ...         93       Pass      A\n",
              "3          RC   Ravenclaw       None  ...         49       Fail      F\n",
              "4          RC   Ravenclaw       None  ...         76       Pass      B\n",
              "\n",
              "[5 rows x 9 columns]"
            ]
          },
          "metadata": {
            "tags": []
          },
          "execution_count": 9
        }
      ]
    },
    {
      "cell_type": "code",
      "metadata": {
        "colab": {
          "base_uri": "https://localhost:8080/",
          "height": 204
        },
        "id": "ro5-oANHqm9r",
        "outputId": "7f89ccb4-f7f4-4d23-eca7-ae4f6a64dd3f"
      },
      "source": [
        "data.tail()\n",
        "# This function returns last n rows from the object based on position\n",
        "# It is useful for quickly verifying data, for example, after sorting or appending rows"
      ],
      "execution_count": null,
      "outputs": [
        {
          "output_type": "execute_result",
          "data": {
            "text/html": [
              "<div>\n",
              "<style scoped>\n",
              "    .dataframe tbody tr th:only-of-type {\n",
              "        vertical-align: middle;\n",
              "    }\n",
              "\n",
              "    .dataframe tbody tr th {\n",
              "        vertical-align: top;\n",
              "    }\n",
              "\n",
              "    .dataframe thead th {\n",
              "        text-align: right;\n",
              "    }\n",
              "</style>\n",
              "<table border=\"1\" class=\"dataframe\">\n",
              "  <thead>\n",
              "    <tr style=\"text-align: right;\">\n",
              "      <th></th>\n",
              "      <th>school_code</th>\n",
              "      <th>school_name</th>\n",
              "      <th>test_prep</th>\n",
              "      <th>math_score</th>\n",
              "      <th>reading_score</th>\n",
              "      <th>writing_score</th>\n",
              "      <th>avg_score</th>\n",
              "      <th>pass_fail</th>\n",
              "      <th>grade</th>\n",
              "    </tr>\n",
              "  </thead>\n",
              "  <tbody>\n",
              "    <tr>\n",
              "      <th>995</th>\n",
              "      <td>GF</td>\n",
              "      <td>Gryffindor</td>\n",
              "      <td>Completed</td>\n",
              "      <td>88</td>\n",
              "      <td>99</td>\n",
              "      <td>95</td>\n",
              "      <td>94</td>\n",
              "      <td>Pass</td>\n",
              "      <td>A</td>\n",
              "    </tr>\n",
              "    <tr>\n",
              "      <th>996</th>\n",
              "      <td>RC</td>\n",
              "      <td>Ravenclaw</td>\n",
              "      <td>None</td>\n",
              "      <td>62</td>\n",
              "      <td>55</td>\n",
              "      <td>55</td>\n",
              "      <td>57</td>\n",
              "      <td>Pass</td>\n",
              "      <td>D</td>\n",
              "    </tr>\n",
              "    <tr>\n",
              "      <th>997</th>\n",
              "      <td>GF</td>\n",
              "      <td>Gryffindor</td>\n",
              "      <td>Completed</td>\n",
              "      <td>59</td>\n",
              "      <td>71</td>\n",
              "      <td>65</td>\n",
              "      <td>65</td>\n",
              "      <td>Pass</td>\n",
              "      <td>C</td>\n",
              "    </tr>\n",
              "    <tr>\n",
              "      <th>998</th>\n",
              "      <td>GF</td>\n",
              "      <td>Gryffindor</td>\n",
              "      <td>Completed</td>\n",
              "      <td>68</td>\n",
              "      <td>78</td>\n",
              "      <td>77</td>\n",
              "      <td>74</td>\n",
              "      <td>Pass</td>\n",
              "      <td>B</td>\n",
              "    </tr>\n",
              "    <tr>\n",
              "      <th>999</th>\n",
              "      <td>GF</td>\n",
              "      <td>Gryffindor</td>\n",
              "      <td>None</td>\n",
              "      <td>77</td>\n",
              "      <td>86</td>\n",
              "      <td>86</td>\n",
              "      <td>83</td>\n",
              "      <td>Pass</td>\n",
              "      <td>A</td>\n",
              "    </tr>\n",
              "  </tbody>\n",
              "</table>\n",
              "</div>"
            ],
            "text/plain": [
              "    school_code school_name  test_prep  ...  avg_score  pass_fail  grade\n",
              "995          GF  Gryffindor  Completed  ...         94       Pass      A\n",
              "996          RC   Ravenclaw       None  ...         57       Pass      D\n",
              "997          GF  Gryffindor  Completed  ...         65       Pass      C\n",
              "998          GF  Gryffindor  Completed  ...         74       Pass      B\n",
              "999          GF  Gryffindor       None  ...         83       Pass      A\n",
              "\n",
              "[5 rows x 9 columns]"
            ]
          },
          "metadata": {
            "tags": []
          },
          "execution_count": 10
        }
      ]
    },
    {
      "cell_type": "markdown",
      "metadata": {
        "id": "CEwWn-_ZzoSa"
      },
      "source": [
        "#Step 4. Decide on the type of Model\n",
        "\n",
        "**1. Line Charts**\n",
        "\n",
        "> A line chart reveals trends or progress over time and can be used to show many different categories of data. You should use it when you chart a continuous data set.\n",
        "\n",
        "  ```\n",
        "  #How to create line charts using matplotlib\n",
        "  plt.plot(xAxis,yAxis)\n",
        "  ```\n",
        "\n",
        "**2. Bar Charts**\n",
        "\n",
        "> A bar chart is used to show a comparison among different items, or it can show a comparison of items over time. You could use this format to see the revenue per landing page or customers by close date.\n",
        "\n",
        "  ```\n",
        "  #How to create bar charts using matplotlib\n",
        "  plt.bar(xAxis,yAxis)\n",
        "  ```\n",
        "\n",
        "**3. Pie Charts**\n",
        "\n",
        "> A pie chart shows a static number and how categories represent part of a whole -- the composition of something. A pie chart represents numbers in percentages, and the total sum of all segments needs to equal 100%.\n",
        "\n",
        "  ```\n",
        "  #How to create pie charts using matplotlib\n",
        "  plt.pie(my_data,labels=my_labels,autopct='%1.1f%%')\n",
        "  ```"
      ]
    },
    {
      "cell_type": "markdown",
      "metadata": {
        "id": "ZLAdT_0g59ol"
      },
      "source": [
        "#Step 5. Visusalize Your Results"
      ]
    },
    {
      "cell_type": "markdown",
      "metadata": {
        "id": "Ku06Fkbi6XVG"
      },
      "source": [
        "##Creating a Pie Chart"
      ]
    },
    {
      "cell_type": "code",
      "metadata": {
        "colab": {
          "base_uri": "https://localhost:8080/"
        },
        "id": "8l0QoGgkrHLZ",
        "outputId": "18ffd6ad-d9aa-4cf1-f88b-2672885e4443"
      },
      "source": [
        "# count the number of each grade to plot the data\n",
        "num_grade = data.grade\n",
        "grades = [0,0,0,0,0]\n",
        "for grade in num_grade:\n",
        "    if grade == 'A':\n",
        "        grades[0] += 1\n",
        "    elif grade == 'B':\n",
        "        grades[1] += 1\n",
        "    elif grade == 'C':\n",
        "        grades[2] += 1\n",
        "    elif grade == 'D':\n",
        "        grades[3] += 1\n",
        "    else:\n",
        "      grades[4] += 1\n",
        "\n",
        "grades"
      ],
      "execution_count": null,
      "outputs": [
        {
          "output_type": "execute_result",
          "data": {
            "text/plain": [
              "[206, 258, 256, 180, 100]"
            ]
          },
          "metadata": {
            "tags": []
          },
          "execution_count": 11
        }
      ]
    },
    {
      "cell_type": "code",
      "metadata": {
        "colab": {
          "base_uri": "https://localhost:8080/",
          "height": 264
        },
        "id": "dUaUhfc5kEVd",
        "outputId": "b31fc237-3c7a-47c7-c3a2-23de8f2e895d"
      },
      "source": [
        "# Creating a Pie Chart \n",
        "\n",
        "#1. Assign labels for each grade\n",
        "label = 'A', 'B', 'C', 'D', 'F' \n",
        "\n",
        "#2. Show the title of a graph as 'Grade'\n",
        "plt.title('Grade') \n",
        "\n",
        "#3. Create a pie graph\n",
        "plt.pie(grades, labels=label, autopct='%1.1f%%') \n",
        "\n",
        "#4. Show your graph\n",
        "plt.show() "
      ],
      "execution_count": null,
      "outputs": [
        {
          "output_type": "display_data",
          "data": {
            "image/png": "[encoded data removed]",
            "text/plain": [
              "<Figure size 432x288 with 1 Axes>"
            ]
          },
          "metadata": {
            "tags": []
          }
        }
      ]
    },
    {
      "cell_type": "markdown",
      "metadata": {
        "id": "2ugcE11gwZoP"
      },
      "source": [
        "## Excercise: Pie chart\n",
        "> Create a pie chart with pass or fail data"
      ]
    },
    {
      "cell_type": "code",
      "metadata": {
        "colab": {
          "base_uri": "https://localhost:8080/"
        },
        "id": "HOyKchHCkO7u",
        "outputId": "fc173943-1a39-42f4-ed24-5cda3ece0be6"
      },
      "source": [
        "# count the number of pass or fail to plot the data\n",
        "num_pf = data.pass_fail\n",
        "pfs = [0,0]\n",
        "for pf in num_pf:\n",
        "    if pf == 'Pass':\n",
        "      pfs[0] += 1\n",
        "    else:\n",
        "      pfs[1] += 1\n",
        "pfs"
      ],
      "execution_count": null,
      "outputs": [
        {
          "output_type": "execute_result",
          "data": {
            "text/plain": [
              "[900, 100]"
            ]
          },
          "metadata": {
            "tags": []
          },
          "execution_count": 13
        }
      ]
    },
    {
      "cell_type": "code",
      "metadata": {
        "id": "EnBXBjX6xEs_",
        "colab": {
          "base_uri": "https://localhost:8080/",
          "height": 264
        },
        "outputId": "e26277f6-97a5-4302-93ce-710feaa15e1f"
      },
      "source": [
        "# Create a pie chart with pass or fail data \n",
        "\n",
        "#1. Assign labels for the data\n",
        "label = 'Pass', 'Fail'\n",
        "\n",
        "#2. Show a title of graph as 'Pass or Fail'\n",
        "plt.title('Pass or Fail') \n",
        "\n",
        "#3. Create a pie graph\n",
        "plt.pie(pfs, labels=label, autopct='%1.1f%%') \n",
        "\n",
        "#4. Show your graph\n",
        "plt.show() "
      ],
      "execution_count": null,
      "outputs": [
        {
          "output_type": "display_data",
          "data": {
            "image/png": "[encoded data removed]",
            "text/plain": [
              "<Figure size 432x288 with 1 Axes>"
            ]
          },
          "metadata": {
            "tags": []
          }
        }
      ]
    }
  ]
}
